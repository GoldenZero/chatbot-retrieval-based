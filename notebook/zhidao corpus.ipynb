{
 "cells": [
  {
   "cell_type": "code",
   "execution_count": 2,
   "metadata": {},
   "outputs": [],
   "source": [
    "file_path = './equivalent_questions.txt'\n",
    "with open(file_path,'r') as f:\n",
    "    a = f.readline()"
   ]
  },
  {
   "cell_type": "code",
   "execution_count": 5,
   "metadata": {},
   "outputs": [
    {
     "data": {
      "text/plain": [
       "{'source_question': '上旋球，下旋球是什么意思？',\n",
       " 'equivalent0': '上旋球,下旋球是什么意思?',\n",
       " 'equivalent1': '什么是上旋球?什么是下旋球?',\n",
       " 'equivalent2': '上旋球和下旋球的发达有什么区别',\n",
       " 'equivalent3': '乒乓球中上旋球与下旋球的主要区别?',\n",
       " 'equivalent4': '乒乓球上旋球与下旋球有区别吗',\n",
       " 'equivalent5': '乒乓球如何区分上旋球和下旋球',\n",
       " 'equivalent6': '怎样判断对方发的上旋球还是下旋球',\n",
       " 'equivalent7': '什么叫做上旋球?',\n",
       " 'equivalent8': '乒乓球如何发下旋球和上旋球,如何区分它们?'}"
      ]
     },
     "execution_count": 5,
     "metadata": {},
     "output_type": "execute_result"
    }
   ],
   "source": [
    "eval(a)"
   ]
  },
  {
   "cell_type": "code",
   "execution_count": null,
   "metadata": {},
   "outputs": [],
   "source": []
  }
 ],
 "metadata": {
  "kernelspec": {
   "display_name": "Python 3",
   "language": "python",
   "name": "python3"
  },
  "language_info": {
   "codemirror_mode": {
    "name": "ipython",
    "version": 3
   },
   "file_extension": ".py",
   "mimetype": "text/x-python",
   "name": "python",
   "nbconvert_exporter": "python",
   "pygments_lexer": "ipython3",
   "version": "3.6.5"
  }
 },
 "nbformat": 4,
 "nbformat_minor": 2
}
